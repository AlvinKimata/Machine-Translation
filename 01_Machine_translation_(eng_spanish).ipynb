{
  "cells": [
    {
      "cell_type": "markdown",
      "id": "50016a36-60c1-4ef4-83af-e3455603cfcd",
      "metadata": {
        "id": "50016a36-60c1-4ef4-83af-e3455603cfcd"
      },
      "source": [
        "## 1. Import libraries and datasets."
      ]
    },
    {
      "cell_type": "code",
      "source": [
        "!wget https://huawei-ai-certification.obs.cn-north-4.myhuaweicloud.com/ENG/HCIP-AI%20EI%20Developer/V2.1/spa-eng.zip"
      ],
      "metadata": {
        "id": "E-a6CE8_GsAV"
      },
      "id": "E-a6CE8_GsAV",
      "execution_count": null,
      "outputs": []
    },
    {
      "cell_type": "code",
      "source": [
        "!unzip '/content/spa-eng.zip'"
      ],
      "metadata": {
        "id": "Vzmk-WMbG6mK"
      },
      "id": "Vzmk-WMbG6mK",
      "execution_count": null,
      "outputs": []
    },
    {
      "cell_type": "code",
      "execution_count": null,
      "id": "02dfd933-c721-45af-ba1d-ea7e32482f0d",
      "metadata": {
        "id": "02dfd933-c721-45af-ba1d-ea7e32482f0d"
      },
      "outputs": [],
      "source": [
        "import re\n",
        "import io\n",
        "import os\n",
        "import time\n",
        "import unicodedata\n",
        "\n",
        "import numpy as np\n",
        "import tensorflow as tf\n",
        "import matplotlib.pyplot as plt\n",
        "import matplotlib.ticker as ticker\n",
        "from sklearn.model_selection import train_test_split"
      ]
    },
    {
      "cell_type": "code",
      "execution_count": null,
      "id": "b329d8ca-7505-4564-ae53-6f7576cbddbd",
      "metadata": {
        "id": "b329d8ca-7505-4564-ae53-6f7576cbddbd"
      },
      "outputs": [],
      "source": [
        "PATH_TO_FILE = '/content/spa-eng/spa.txt'"
      ]
    },
    {
      "cell_type": "markdown",
      "id": "b7f20375-9999-40d2-8b78-58f16981080b",
      "metadata": {
        "id": "b7f20375-9999-40d2-8b78-58f16981080b"
      },
      "source": [
        "## 2. Preprocessing steps."
      ]
    },
    {
      "cell_type": "markdown",
      "id": "0dc43793-d8db-4a17-bf3e-e46e81bf513c",
      "metadata": {
        "id": "0dc43793-d8db-4a17-bf3e-e46e81bf513c"
      },
      "source": [
        "**The preprocessing steps include:**\n",
        "- Converting unicode to ascii\n",
        "- Replacing particular characters with space\n",
        "- Add a start and end token to the sentence."
      ]
    },
    {
      "cell_type": "code",
      "execution_count": null,
      "id": "402b19ca-b51b-41f5-8728-00e286a99abe",
      "metadata": {
        "id": "402b19ca-b51b-41f5-8728-00e286a99abe"
      },
      "outputs": [],
      "source": [
        "def unicode_to_ascii(s):\n",
        "    return ''.join(c for c in unicodedata.normalize('NFD', s)\n",
        "                   if unicodedata.category(c) != 'Mn')\n",
        "\n",
        "def preprocess_sentence(w):\n",
        "    w = unicode_to_ascii(w.lower().strip())\n",
        "    \n",
        "    #Create space between a word and the punctuation following it.\n",
        "    #e.g: he is a boy. => he is a boy .\n",
        "    w = re.sub(r\"([?.!,¿])\",r\" \\1 \",w)\n",
        "    w = re.sub(r'[\" \"]+',\" \",w)\n",
        "    \n",
        "    #Replace everything with space except (a-z, A-Z, \".\", \"?\", \"!\", \",\")\n",
        "    w = re.sub(r\"[^a-zA-Z?.!,¿]+\",\" \", w)\n",
        "    w = w.strip()\n",
        "    \n",
        "    #Add a start and an end token to the sentence so that the model knows when to stop predicting.\n",
        "    w = '<start> ' + w + ' <end>'\n",
        "    return w"
      ]
    },
    {
      "cell_type": "code",
      "execution_count": null,
      "id": "0b9d42a5-d225-485a-afec-3248d0ad0e67",
      "metadata": {
        "colab": {
          "base_uri": "https://localhost:8080/"
        },
        "id": "0b9d42a5-d225-485a-afec-3248d0ad0e67",
        "outputId": "884d298a-6138-49de-e2bf-43d4df99e9b8"
      },
      "outputs": [
        {
          "output_type": "stream",
          "name": "stdout",
          "text": [
            "<start> may i borrow this book ? <end>\n",
            "b'<start> \\xc2\\xbf puedo tomar prestado este libro ? <end>'\n"
          ]
        }
      ],
      "source": [
        "EN_SENTENCE = u'May I borrow this book?'\n",
        "SP_SENTENCE = u'¿Puedo tomar prestado este libro?'\n",
        "\n",
        "print(preprocess_sentence(EN_SENTENCE))\n",
        "print(preprocess_sentence(SP_SENTENCE).encode('utf-8'))"
      ]
    },
    {
      "cell_type": "markdown",
      "id": "90192060-468b-4bc9-8b8a-58d8b0696055",
      "metadata": {
        "id": "90192060-468b-4bc9-8b8a-58d8b0696055"
      },
      "source": [
        "- Remove the accents.\n",
        "- Clean the sentences.\n",
        "- Return word pairs in the format [ENGLISH, SPANISH]"
      ]
    },
    {
      "cell_type": "code",
      "execution_count": null,
      "id": "a6854874-d857-47ad-8b22-ed92521d92c1",
      "metadata": {
        "id": "a6854874-d857-47ad-8b22-ed92521d92c1"
      },
      "outputs": [],
      "source": [
        "def create_dataset(PATH, NUM_EXAMPLES):\n",
        "    LINES = io.open(PATH, encoding = 'UTF-8').read().strip().split('\\n')\n",
        "    \n",
        "    WORD_PAIRS = [[preprocess_sentence(w) for w in l.split('\\t')] for l in LINES[:NUM_EXAMPLES]]\n",
        "    \n",
        "    return zip(*WORD_PAIRS)"
      ]
    },
    {
      "cell_type": "code",
      "execution_count": null,
      "id": "f0022532-d0ec-408a-9988-9f8f7ef2945f",
      "metadata": {
        "colab": {
          "base_uri": "https://localhost:8080/"
        },
        "id": "f0022532-d0ec-408a-9988-9f8f7ef2945f",
        "outputId": "bb1255a0-6d29-4a56-b8ba-402de62afabd"
      },
      "outputs": [
        {
          "output_type": "stream",
          "name": "stdout",
          "text": [
            "<start> if you want to sound like a native speaker , you must be willing to practice saying the same sentence over and over in the same way that banjo players practice the same phrase over and over until they can play it correctly and at the desired tempo . <end>\n",
            "\n",
            " <start> si quieres sonar como un hablante nativo , debes estar dispuesto a practicar diciendo la misma frase una y otra vez de la misma manera en que un musico de banjo practica el mismo fraseo una y otra vez hasta que lo puedan tocar correctamente y en el tiempo esperado . <end>\n"
          ]
        }
      ],
      "source": [
        "EN, SP = create_dataset(PATH_TO_FILE, None)\n",
        "print(EN[-1])\n",
        "print('\\n', SP[-1])"
      ]
    },
    {
      "cell_type": "code",
      "execution_count": null,
      "id": "aebad5f7-ff91-4cce-a649-26b31eb2d748",
      "metadata": {
        "id": "aebad5f7-ff91-4cce-a649-26b31eb2d748"
      },
      "outputs": [],
      "source": [
        "def tokenize(LANG):\n",
        "    LANG_TOKENIZER = tf.keras.preprocessing.text.Tokenizer(filters = '', oov_token = '<OOV>')\n",
        "    LANG_TOKENIZER.fit_on_texts(LANG)\n",
        "    \n",
        "    TENSOR = LANG_TOKENIZER.texts_to_sequences(LANG)\n",
        "    TENSOR = tf.keras.preprocessing.sequence.pad_sequences(TENSOR, padding = 'post')\n",
        "    \n",
        "    return TENSOR, LANG_TOKENIZER\n",
        "\n",
        "def load_dataset(PATH, NUM_EXAMPLES = None):\n",
        "    #Creating cleaned input, output pairs.\n",
        "    TARG_LANG, INP_LANG = create_dataset(PATH, NUM_EXAMPLES)\n",
        "    \n",
        "    INPUT_TENSOR, INP_LANG_TOKENIZER = tokenize(INP_LANG)\n",
        "    TARGET_TENSOR, TARG_LANG_TOKENIZER = tokenize(TARG_LANG)\n",
        "    \n",
        "    return INPUT_TENSOR, TARGET_TENSOR, INP_LANG_TOKENIZER, TARG_LANG_TOKENIZER"
      ]
    },
    {
      "cell_type": "code",
      "execution_count": null,
      "id": "e1423a41-52d4-411d-9660-4c6f422ad513",
      "metadata": {
        "colab": {
          "base_uri": "https://localhost:8080/"
        },
        "id": "e1423a41-52d4-411d-9660-4c6f422ad513",
        "outputId": "cb581f66-913b-4fca-b3cd-97e5950c0b97"
      },
      "outputs": [
        {
          "output_type": "stream",
          "name": "stdout",
          "text": [
            "Length of input tensor train is: 24000\n",
            "Length of target tensor train is; 24000\n",
            "Length of input tensor test is: 6000\n",
            "Length of target tensor test is; 6000\n"
          ]
        }
      ],
      "source": [
        "NUM_EXAMPLES = 30000\n",
        "INPUT_TENSOR, TARGET_TENSOR, INP_LANG, TARG_LANG = load_dataset(PATH_TO_FILE, NUM_EXAMPLES)\n",
        "\n",
        "#Calculate maximum length of the target tensors.\n",
        "MAX_LENGTH_TARG, MAX_LENGTH_INP = TARGET_TENSOR.shape[1], INPUT_TENSOR.shape[1]\n",
        "\n",
        "#Creating training and validation sets\n",
        "INPUT_TENSOR_TRAIN, INPUT_TENSOR_TEST, TARGET_TENSOR_TRAIN, TARGET_TENSOR_TEST = train_test_split(INPUT_TENSOR, TARGET_TENSOR, test_size = 0.2)\n",
        "\n",
        "print(f'Length of input tensor train is: {len(INPUT_TENSOR_TRAIN)}')\n",
        "print(f'Length of target tensor train is; {len(TARGET_TENSOR_TRAIN)}')\n",
        "print(f'Length of input tensor test is: {len(INPUT_TENSOR_TEST)}')\n",
        "print(f'Length of target tensor test is; {len(TARGET_TENSOR_TEST)}')"
      ]
    },
    {
      "cell_type": "code",
      "execution_count": null,
      "id": "71785ece-c965-4d77-998c-93c8e949f5dd",
      "metadata": {
        "colab": {
          "base_uri": "https://localhost:8080/"
        },
        "id": "71785ece-c965-4d77-998c-93c8e949f5dd",
        "outputId": "52100932-31e0-4ebb-a06c-7df0cd28bc4c"
      },
      "outputs": [
        {
          "output_type": "stream",
          "name": "stdout",
          "text": [
            "Input language ---> index to word mapping\n",
            "2 ----> <start>\n",
            "325 ----> pueden\n",
            "1880 ----> conversar\n",
            "35 ----> aqui\n",
            "4 ----> .\n",
            "3 ----> <end>\n",
            "\n",
            "Target language ---> index to word mapping\n",
            "2 ----> <start>\n",
            "7 ----> you\n",
            "26 ----> can\n",
            "150 ----> talk\n",
            "40 ----> here\n",
            "4 ----> .\n",
            "3 ----> <end>\n"
          ]
        }
      ],
      "source": [
        "#Convert text to index for word mapping.\n",
        "def convert(LANG, TENSOR):\n",
        "    for t in TENSOR:\n",
        "        if t != 0:\n",
        "            print('%d ----> %s' %(t, LANG.index_word[t]))\n",
        "            \n",
        "print('Input language ---> index to word mapping')\n",
        "convert(INP_LANG, INPUT_TENSOR_TRAIN[0])\n",
        "print()\n",
        "print('Target language ---> index to word mapping')\n",
        "convert(TARG_LANG, TARGET_TENSOR_TRAIN[0])"
      ]
    },
    {
      "cell_type": "code",
      "execution_count": null,
      "id": "21309ac1-03ac-4793-9fc2-415c7ee97cf0",
      "metadata": {
        "colab": {
          "base_uri": "https://localhost:8080/"
        },
        "id": "21309ac1-03ac-4793-9fc2-415c7ee97cf0",
        "outputId": "30f15d31-88d6-4d54-8f2c-c165717142fd"
      },
      "outputs": [
        {
          "output_type": "execute_result",
          "data": {
            "text/plain": [
              "(TensorShape([64, 16]), TensorShape([64, 11]))"
            ]
          },
          "metadata": {},
          "execution_count": 12
        }
      ],
      "source": [
        "#Convert the file to a tf.data.Dataset object.\n",
        "BUFFER_SIZE = len(INPUT_TENSOR_TRAIN)\n",
        "BATCH_SIZE = 64\n",
        "steps_per_epoch = len(INPUT_TENSOR_TRAIN) // BATCH_SIZE\n",
        "embedding_dim = 256\n",
        "units = 1024\n",
        "vocab_inp_size = len(INP_LANG.word_index) + 1\n",
        "vocab_tar_size = len(TARG_LANG.word_index) + 1\n",
        "\n",
        "dataset = tf.data.Dataset.from_tensor_slices((INPUT_TENSOR_TRAIN, TARGET_TENSOR_TRAIN)).shuffle(BUFFER_SIZE)\n",
        "dataset = dataset.batch(BATCH_SIZE, drop_remainder = True)\n",
        "\n",
        "example_input_batch, example_target_batch = next(iter(dataset))\n",
        "example_input_batch.shape, example_target_batch.shape"
      ]
    },
    {
      "cell_type": "markdown",
      "id": "2e785340-3b74-4144-876a-643794a8f63a",
      "metadata": {
        "id": "2e785340-3b74-4144-876a-643794a8f63a"
      },
      "source": [
        "## 3. Build model."
      ]
    },
    {
      "cell_type": "code",
      "execution_count": null,
      "id": "44d8f2b6-9168-4c23-87cb-7f60b1a572d6",
      "metadata": {
        "id": "44d8f2b6-9168-4c23-87cb-7f60b1a572d6"
      },
      "outputs": [],
      "source": [
        "#Defining an encoder.\n",
        "class Encoder(tf.keras.Model):\n",
        "    def __init__(self, vocab_size, embedding_dim, enc_units, batch_sz):\n",
        "        super(Encoder, self).__init__()\n",
        "        self.batch_sz = batch_sz\n",
        "        self.enc_units = enc_units\n",
        "        self.embedding = tf.keras.layers.Embedding(vocab_size, embedding_dim)\n",
        "        self.gru = tf.keras.layers.GRU(self.enc_units,\n",
        "            return_sequences = True,\n",
        "            return_state = True,\n",
        "            recurrent_initializer = 'glorot_uniform')\n",
        "    \n",
        "    def call(self, x, hidden):\n",
        "        x = self.embedding(x)\n",
        "        output, state = self.gru(x, initial_state = hidden)\n",
        "        return output, state\n",
        "    \n",
        "    def initialize_hidden_state(self):\n",
        "        return tf.zeros((self.batch_sz, self.enc_units))"
      ]
    },
    {
      "cell_type": "code",
      "execution_count": null,
      "id": "2188df7e-2271-42b9-a985-a53d3a9e0096",
      "metadata": {
        "colab": {
          "base_uri": "https://localhost:8080/"
        },
        "id": "2188df7e-2271-42b9-a985-a53d3a9e0096",
        "outputId": "fe7a46c6-cf8a-41ad-cfe6-2450253cc19e"
      },
      "outputs": [
        {
          "output_type": "stream",
          "name": "stdout",
          "text": [
            "Encoder output shape is: (batch size, units) (64, 16, 1024)\n",
            "Encoder hidden state shape (batch size, units) (64, 1024)\n"
          ]
        }
      ],
      "source": [
        "encoder = Encoder(vocab_inp_size, embedding_dim, units, BATCH_SIZE)\n",
        "\n",
        "#Sample input.\n",
        "sample_hidden = encoder.initialize_hidden_state()\n",
        "sample_output, sample_hidden = encoder(example_input_batch, sample_hidden)\n",
        "print(f'Encoder output shape is: (batch size, units) {sample_output.shape}')\n",
        "print(f'Encoder hidden state shape (batch size, units) {sample_hidden.shape}')"
      ]
    },
    {
      "cell_type": "markdown",
      "id": "560e89f9-8942-48cc-ab21-3877135ee912",
      "metadata": {
        "id": "560e89f9-8942-48cc-ab21-3877135ee912"
      },
      "source": [
        "### Attention layer."
      ]
    },
    {
      "cell_type": "code",
      "execution_count": null,
      "id": "7cc99ce7-fac2-4c7d-b764-7bc1d6d4611a",
      "metadata": {
        "id": "7cc99ce7-fac2-4c7d-b764-7bc1d6d4611a"
      },
      "outputs": [],
      "source": [
        "class BahdanauAttention(tf.keras.layers.Layer):\n",
        "    def __init__(self, units):\n",
        "        super(BahdanauAttention, self).__init__()\n",
        "        self.W1 = tf.keras.layers.Dense(units)\n",
        "        self.W2 = tf.keras.layers.Dense(units)\n",
        "        self.V = tf.keras.layers.Dense(1)\n",
        "        \n",
        "    def call(self, query, values):\n",
        "        query_with_time_axis = tf.expand_dims(query, 1)\n",
        "        score = self.V(tf.nn.tanh(self.W1(query_with_time_axis) + self.W2(values)))\n",
        "        \n",
        "        #Attention weights shape.\n",
        "        attention_weights = tf.nn.softmax(score, axis = 1)\n",
        "        \n",
        "        #Context vector shape after sum == (batch_size, hidden_state)\n",
        "        context_vector = attention_weights * values\n",
        "        context_vector = tf.reduce_sum(context_vector, axis = 1)\n",
        "        \n",
        "        return context_vector, attention_weights"
      ]
    },
    {
      "cell_type": "code",
      "execution_count": null,
      "id": "e463b0a8-f88e-407c-9b90-70a9d4402946",
      "metadata": {
        "colab": {
          "base_uri": "https://localhost:8080/"
        },
        "id": "e463b0a8-f88e-407c-9b90-70a9d4402946",
        "outputId": "6fe00c8e-7a74-4f84-d226-f3b323b603cf"
      },
      "outputs": [
        {
          "output_type": "stream",
          "name": "stdout",
          "text": [
            "Attention result shape (batch size, units) (64, 1024)\n",
            "Atention weights shape (batch size, sequence_length, 1) (64, 16, 1)\n"
          ]
        }
      ],
      "source": [
        "attention_layer = BahdanauAttention(10)\n",
        "attention_result, attention_weights = attention_layer(sample_hidden, sample_output)\n",
        "\n",
        "print(f'Attention result shape (batch size, units) {attention_result.shape}')\n",
        "print(f'Atention weights shape (batch size, sequence_length, 1) {attention_weights.shape}')"
      ]
    },
    {
      "cell_type": "markdown",
      "id": "0f45d845-c79f-4e21-a836-4c2503151451",
      "metadata": {
        "id": "0f45d845-c79f-4e21-a836-4c2503151451"
      },
      "source": [
        "### Decoder network."
      ]
    },
    {
      "cell_type": "code",
      "execution_count": null,
      "id": "00ebe14a-792f-4706-9fcf-f0387be72a30",
      "metadata": {
        "id": "00ebe14a-792f-4706-9fcf-f0387be72a30"
      },
      "outputs": [],
      "source": [
        "class Decoder(tf.keras.Model):\n",
        "    def __init__(self, vocab_size, embedding_dim, dec_units, batch_sz):\n",
        "        super(Decoder, self).__init__()\n",
        "        self.batch_sz = batch_sz\n",
        "        self.dec_units = dec_units\n",
        "        self.embedding = tf.keras.layers.Embedding(vocab_size, embedding_dim)\n",
        "        self.gru = tf.keras.layers.GRU(self.dec_units,\n",
        "                                       return_sequences = True,\n",
        "                                       return_state = True,\n",
        "                                       recurrent_initializer = 'glorot_uniform')\n",
        "        self.fc = tf.keras.layers.Dense(vocab_size)\n",
        "        \n",
        "        #Used for attention.\n",
        "        self.attention = BahdanauAttention(self.dec_units)\n",
        "    \n",
        "    def call(self, x, hidden, enc_output):\n",
        "        context_vector, attention_weights = self.attention(hidden, enc_output)\n",
        "        x = self.embedding(x)\n",
        "        x = tf.concat([tf.expand_dims(context_vector, 1), x], axis = -1)\n",
        "        output, state = self.gru(x)\n",
        "        output = tf.reshape(output, (-1, output.shape[2]))\n",
        "        x = self.fc(output)\n",
        "        \n",
        "        return x, state, attention_weights"
      ]
    },
    {
      "cell_type": "code",
      "execution_count": null,
      "id": "681b7b58-6ea3-4107-8b5c-66441901a0dd",
      "metadata": {
        "colab": {
          "base_uri": "https://localhost:8080/"
        },
        "id": "681b7b58-6ea3-4107-8b5c-66441901a0dd",
        "outputId": "56867d51-2146-4cb1-f30b-a2e260b6db64"
      },
      "outputs": [
        {
          "output_type": "stream",
          "name": "stdout",
          "text": [
            "Decoder output shape: (batch_size, vocab_size) (64, 4936)\n"
          ]
        }
      ],
      "source": [
        "decoder = Decoder(vocab_tar_size, embedding_dim, units, BATCH_SIZE)\n",
        "\n",
        "sample_decoder_output, _, _ = decoder(tf.random.uniform((BATCH_SIZE, 1)),\n",
        "                                      sample_hidden, sample_output)\n",
        "print(f'Decoder output shape: (batch_size, vocab_size) {sample_decoder_output.shape}')"
      ]
    },
    {
      "cell_type": "markdown",
      "id": "2bccc0d6-a0ee-430a-b30e-29165a7d5ef6",
      "metadata": {
        "id": "2bccc0d6-a0ee-430a-b30e-29165a7d5ef6"
      },
      "source": [
        "### Optimizers and loss functions."
      ]
    },
    {
      "cell_type": "code",
      "execution_count": null,
      "id": "478ef054-c539-4f41-b632-a03239b55ece",
      "metadata": {
        "id": "478ef054-c539-4f41-b632-a03239b55ece"
      },
      "outputs": [],
      "source": [
        "optimizer = tf.keras.optimizers.Adam()\n",
        "loss_object = tf.keras.losses.SparseCategoricalCrossentropy(\n",
        "    from_logits = True, reduction = 'none')\n",
        "\n",
        "def loss_function(real, pred):\n",
        "    mask = tf.math.logical_not(tf.math.equal(real, 0))\n",
        "    loss_ = loss_object(real, pred)\n",
        "    \n",
        "    mask = tf.cast(mask, dtype = loss_.dtype)\n",
        "    loss_ *= mask\n",
        "    \n",
        "    return tf.reduce_mean(loss_)"
      ]
    },
    {
      "cell_type": "code",
      "execution_count": null,
      "id": "f1254113-2312-44ad-8200-bfb563c2c0a8",
      "metadata": {
        "id": "f1254113-2312-44ad-8200-bfb563c2c0a8"
      },
      "outputs": [],
      "source": [
        "checkpoint_dir = './training_checkpoints'\n",
        "checkpoint_prefix = os.path.join(checkpoint_dir, 'ckpt')\n",
        "checkpoint = tf.train.Checkpoint(optimizer = optimizer, encoder = encoder, decoder = decoder)"
      ]
    },
    {
      "cell_type": "code",
      "execution_count": null,
      "id": "466e2407-5c6b-4ee4-9f22-ecd68b211ddf",
      "metadata": {
        "id": "466e2407-5c6b-4ee4-9f22-ecd68b211ddf"
      },
      "outputs": [],
      "source": [
        "@tf.function\n",
        "def train_step(inp, targ, enc_hidden):\n",
        "    loss = 0\n",
        "    \n",
        "    with tf.GradientTape() as tape:\n",
        "        enc_output, enc_hidden = encoder(inp, enc_hidden)\n",
        "        \n",
        "        dec_hidden = enc_hidden\n",
        "        dec_input = tf.expand_dims([TARG_LANG.word_index['<start>']] * BATCH_SIZE, 1)\n",
        "        \n",
        "        #Teacher forcing -> feeding the target as the next input.\n",
        "        for t in range(1, targ.shape[1]):\n",
        "            #Passing enc_output to the encoder.\n",
        "            predictions, dec_hidden, _ = decoder(dec_input, dec_hidden, enc_output)\n",
        "            \n",
        "            loss += loss_function(targ[:, t], predictions)\n",
        "            \n",
        "            #Using teacher forcing.\n",
        "            dec_input = tf.expand_dims(targ[:, t], 1)\n",
        "            \n",
        "    batch_loss = (loss / int(targ.shape[1]))\n",
        "    variables = encoder.trainable_variables + decoder.trainable_variables\n",
        "    gradients = tape.gradient(loss, variables)\n",
        "    optimizer.apply_gradients(zip(gradients, variables))\n",
        "    \n",
        "    return batch_loss"
      ]
    },
    {
      "cell_type": "code",
      "execution_count": null,
      "id": "f7a09820-18df-4505-bd05-942486fcd23a",
      "metadata": {
        "colab": {
          "base_uri": "https://localhost:8080/"
        },
        "id": "f7a09820-18df-4505-bd05-942486fcd23a",
        "outputId": "5154ce6a-2387-4328-f910-a02272fa60a6"
      },
      "outputs": [
        {
          "output_type": "stream",
          "name": "stdout",
          "text": [
            "Epoch: 1, Batch: 0, Loss: 4.553936958312988\n",
            "Epoch: 1, Batch: 100, Loss: 2.164884567260742\n",
            "Epoch: 1, Batch: 200, Loss: 1.8792468309402466\n",
            "Epoch: 1, Batch: 300, Loss: 1.7618895769119263\n",
            "Epoch: 1 Loss: 2.0278\n",
            "Epoch: 2, Batch: 0, Loss: 1.5501527786254883\n",
            "Epoch: 2, Batch: 100, Loss: 1.4358311891555786\n",
            "Epoch: 2, Batch: 200, Loss: 1.2896782159805298\n",
            "Epoch: 2, Batch: 300, Loss: 1.3435341119766235\n",
            "Epoch: 2 Loss: 1.3756\n",
            "Epoch: 3, Batch: 0, Loss: 1.019819736480713\n",
            "Epoch: 3, Batch: 100, Loss: 0.8766970634460449\n",
            "Epoch: 3, Batch: 200, Loss: 0.9593451619148254\n",
            "Epoch: 3, Batch: 300, Loss: 0.9142079949378967\n",
            "Epoch: 3 Loss: 0.9586\n",
            "Epoch: 4, Batch: 0, Loss: 0.6596505641937256\n",
            "Epoch: 4, Batch: 100, Loss: 0.6937504410743713\n",
            "Epoch: 4, Batch: 200, Loss: 0.7089295387268066\n",
            "Epoch: 4, Batch: 300, Loss: 0.6111108064651489\n",
            "Epoch: 4 Loss: 0.6447\n",
            "Epoch: 5, Batch: 0, Loss: 0.45744389295578003\n",
            "Epoch: 5, Batch: 100, Loss: 0.4276030361652374\n",
            "Epoch: 5, Batch: 200, Loss: 0.39656752347946167\n",
            "Epoch: 5, Batch: 300, Loss: 0.3960343301296234\n",
            "Epoch: 5 Loss: 0.4350\n",
            "Epoch: 6, Batch: 0, Loss: 0.2539074420928955\n",
            "Epoch: 6, Batch: 100, Loss: 0.3279450237751007\n",
            "Epoch: 6, Batch: 200, Loss: 0.30534282326698303\n",
            "Epoch: 6, Batch: 300, Loss: 0.31936097145080566\n",
            "Epoch: 6 Loss: 0.2970\n",
            "Epoch: 7, Batch: 0, Loss: 0.1715814769268036\n",
            "Epoch: 7, Batch: 100, Loss: 0.1642715334892273\n",
            "Epoch: 7, Batch: 200, Loss: 0.1805654615163803\n",
            "Epoch: 7, Batch: 300, Loss: 0.24953053891658783\n",
            "Epoch: 7 Loss: 0.2111\n",
            "Epoch: 8, Batch: 0, Loss: 0.17214082181453705\n",
            "Epoch: 8, Batch: 100, Loss: 0.17666764557361603\n",
            "Epoch: 8, Batch: 200, Loss: 0.14685900509357452\n",
            "Epoch: 8, Batch: 300, Loss: 0.14214737713336945\n",
            "Epoch: 8 Loss: 0.1550\n",
            "Epoch: 9, Batch: 0, Loss: 0.110282301902771\n",
            "Epoch: 9, Batch: 100, Loss: 0.1001473069190979\n",
            "Epoch: 9, Batch: 200, Loss: 0.08855585008859634\n",
            "Epoch: 9, Batch: 300, Loss: 0.1755569577217102\n",
            "Epoch: 9 Loss: 0.1210\n",
            "Epoch: 10, Batch: 0, Loss: 0.1190183162689209\n",
            "Epoch: 10, Batch: 100, Loss: 0.07444943487644196\n",
            "Epoch: 10, Batch: 200, Loss: 0.10569681972265244\n",
            "Epoch: 10, Batch: 300, Loss: 0.11249124258756638\n",
            "Epoch: 10 Loss: 0.1004\n"
          ]
        }
      ],
      "source": [
        "EPOCHS = 10\n",
        "\n",
        "for epoch in range(EPOCHS):\n",
        "    start = time.time()\n",
        "    enc_hidden = encoder.initialize_hidden_state()\n",
        "    total_loss = 0\n",
        "    \n",
        "    for(batch, (inp, targ)) in enumerate(dataset.take(steps_per_epoch)):\n",
        "        batch_loss = train_step(inp, targ, enc_hidden)\n",
        "        total_loss += batch_loss\n",
        "        \n",
        "        if batch % 100 == 0:\n",
        "            print(f'Epoch: {epoch + 1}, Batch: {batch}, Loss: {batch_loss.numpy()}')\n",
        "            \n",
        "    #Saving (checkpoint) the model every 2 epochs.\n",
        "    if (epoch + 1) % 2 == 0:\n",
        "        checkpoint.save(file_prefix = checkpoint_prefix)\n",
        "        \n",
        "    print('Epoch: {} Loss: {:.4f}'.format(epoch + 1, total_loss / steps_per_epoch))"
      ]
    },
    {
      "cell_type": "markdown",
      "source": [
        "## Defining test and visualisation functions."
      ],
      "metadata": {
        "id": "s3GQ9x5AJxX4"
      },
      "id": "s3GQ9x5AJxX4"
    },
    {
      "cell_type": "code",
      "execution_count": null,
      "id": "1f94c26e-df00-4459-ab93-32e8aa30eb83",
      "metadata": {
        "id": "1f94c26e-df00-4459-ab93-32e8aa30eb83"
      },
      "outputs": [],
      "source": [
        "def evaluate(sentence):\n",
        "  attention_plot = np.zeros((MAX_LENGTH_TARG, MAX_LENGTH_INP))\n",
        "  sentence = preprocess_sentence(sentence)\n",
        "  \n",
        "  inputs = []\n",
        "\n",
        "  for i in sentence.split(' '):\n",
        "    try:\n",
        "      i_word_index = INP_LANG.word_index[i]\n",
        "      inputs.append(i_word_index)\n",
        "    except KeyError:\n",
        "      continue\n",
        "\n",
        "  inputs = tf.keras.preprocessing.sequence.pad_sequences([inputs],\n",
        "                                                         maxlen = MAX_LENGTH_INP,\n",
        "                                                         padding = 'post')\n",
        "  inputs = tf.convert_to_tensor(inputs)\n",
        "  result = ''\n",
        "  hidden = [tf.zeros((1, units))]\n",
        "  enc_out, enc_hidden = encoder(inputs, hidden)\n",
        "  dec_hidden = enc_hidden\n",
        "  dec_input = tf.expand_dims([TARG_LANG.word_index['<start>']], 0)\n",
        "\n",
        "  for t in range(MAX_LENGTH_TARG):\n",
        "    predictions, dec_hidden, attention_weights = decoder(dec_input, dec_hidden, enc_out)\n",
        "\n",
        "    #Storing the attentioon weights to plot later on.\n",
        "    attention_weights = tf.reshape(attention_weights, (-1, ))\n",
        "    attention_plot[t] = attention_weights.numpy()\n",
        "    predicted_id = tf.argmax(predictions[0]).numpy()\n",
        "\n",
        "    result += TARG_LANG.index_word[predicted_id] + ' '\n",
        "\n",
        "    if TARG_LANG.index_word[predicted_id] == '<end>':\n",
        "      return result, sentence, attention_plot\n",
        "\n",
        "    #The predicted ID is fed back into the model.\n",
        "    dec_input = tf.expand_dims([predicted_id], 0)\n",
        "\n",
        "  return result, sentence, attention_plot\n",
        "\n",
        "#Function for plotting the attention weights.\n",
        "def plot_attention(attention, sentence, predicted_sentence):\n",
        "  fig = plt.figure(figsize = (10, 10))\n",
        "  ax = fig.add_subplot(1, 1, 1)\n",
        "  ax.matshow(attention, cmap = 'viridis')\n",
        "\n",
        "  fontdict = {'fontsize': 14}\n",
        "\n",
        "  ax.set_xticklabels([''] + sentence, fontdict = fontdict, rotation = 90)\n",
        "  ax.set_yticklabels([''] + predicted_sentence, fontdict = fontdict)\n",
        "\n",
        "  ax.xaxis.set_major_locator(ticker.MultipleLocator(1))\n",
        "  ax.yaxis.set_major_locator(ticker.MultipleLocator(1))\n",
        "  plt.show()\n",
        "\n",
        "def translate(sentence):\n",
        "  result, sentence, attention_plot = evaluate(sentence)\n",
        "  print('Input: %s' % (sentence))\n",
        "  print('Predicted translation: {}'.format(result))\n",
        "\n",
        "  attention_plot = attention_plot[:len(result.split(' ')), :len(sentence.split(' '))]\n",
        "  plot_attention(attention_plot, sentence.split(' '), result.split(' '))"
      ]
    },
    {
      "cell_type": "code",
      "source": [
        "#Load a model\n",
        "checkpoint.restore(tf.train.latest_checkpoint(checkpoint_dir))"
      ],
      "metadata": {
        "colab": {
          "base_uri": "https://localhost:8080/"
        },
        "id": "NZgxyYa5Ocq0",
        "outputId": "6b00ca46-a73d-450b-fcf3-ac2c6cc55921"
      },
      "id": "NZgxyYa5Ocq0",
      "execution_count": null,
      "outputs": [
        {
          "output_type": "execute_result",
          "data": {
            "text/plain": [
              "<tensorflow.python.training.tracking.util.CheckpointLoadStatus at 0x7f3ef9900810>"
            ]
          },
          "metadata": {},
          "execution_count": 31
        }
      ]
    },
    {
      "cell_type": "code",
      "source": [
        "translate(u'hace mucho frio aqui')"
      ],
      "metadata": {
        "colab": {
          "base_uri": "https://localhost:8080/",
          "height": 677
        },
        "id": "Okwg-TkTO1-8",
        "outputId": "9168a752-d769-41de-a505-3a860bf14954"
      },
      "id": "Okwg-TkTO1-8",
      "execution_count": null,
      "outputs": [
        {
          "output_type": "stream",
          "name": "stdout",
          "text": [
            "Input: <start> hace mucho frio aqui <end>\n",
            "Predicted translation: it s very cold here . <end> \n"
          ]
        },
        {
          "output_type": "display_data",
          "data": {
            "text/plain": [
              "<Figure size 720x720 with 1 Axes>"
            ],
            "image/png": "[encoded data removed]"
          },
          "metadata": {
            "needs_background": "light"
          }
        }
      ]
    },
    {
      "cell_type": "code",
      "source": [
        "translate(u'Soy una gran fan de las computadoras')"
      ],
      "metadata": {
        "id": "8rU5BpjUOw6B",
        "colab": {
          "base_uri": "https://localhost:8080/",
          "height": 674
        },
        "outputId": "4b732251-98f5-4bb7-c952-e506a87b18e0"
      },
      "id": "8rU5BpjUOw6B",
      "execution_count": null,
      "outputs": [
        {
          "output_type": "stream",
          "name": "stdout",
          "text": [
            "Input: <start> soy una gran fan de las computadoras <end>\n",
            "Predicted translation: i m a big problem . <end> \n"
          ]
        },
        {
          "output_type": "display_data",
          "data": {
            "text/plain": [
              "<Figure size 720x720 with 1 Axes>"
            ],
            "image/png": "[encoded data removed]"
          },
          "metadata": {
            "needs_background": "light"
          }
        }
      ]
    },
    {
      "cell_type": "code",
      "source": [
        "translate(u'Si quieres sonar como un hablante nativo, debes estar dispuesto a practicar diciendo')"
      ],
      "metadata": {
        "colab": {
          "base_uri": "https://localhost:8080/",
          "height": 391
        },
        "id": "p7ulHFo2DwYI",
        "outputId": "4ec567bf-a189-4f80-9c68-eb12373f5960"
      },
      "id": "p7ulHFo2DwYI",
      "execution_count": null,
      "outputs": [
        {
          "output_type": "stream",
          "name": "stdout",
          "text": [
            "Input: <start> si quieres sonar como un hablante nativo , debes estar dispuesto a practicar diciendo <end>\n",
            "Predicted translation: you do so much . <end> \n"
          ]
        },
        {
          "output_type": "display_data",
          "data": {
            "text/plain": [
              "<Figure size 720x720 with 1 Axes>"
            ],
            "image/png": "[encoded data removed]"
          },
          "metadata": {
            "needs_background": "light"
          }
        }
      ]
    },
    {
      "cell_type": "code",
      "source": [
        ""
      ],
      "metadata": {
        "id": "gYutkBluKOfh"
      },
      "id": "gYutkBluKOfh",
      "execution_count": null,
      "outputs": []
    }
  ],
  "metadata": {
    "kernelspec": {
      "display_name": "Python 3 (ipykernel)",
      "language": "python",
      "name": "python3"
    },
    "language_info": {
      "codemirror_mode": {
        "name": "ipython",
        "version": 3
      },
      "file_extension": ".py",
      "mimetype": "text/x-python",
      "name": "python",
      "nbconvert_exporter": "python",
      "pygments_lexer": "ipython3",
      "version": "3.9.7"
    },
    "colab": {
      "name": "01. Machine translation (eng-spanish).ipynb",
      "provenance": [],
      "collapsed_sections": []
    },
    "accelerator": "GPU"
  },
  "nbformat": 4,
  "nbformat_minor": 5
}